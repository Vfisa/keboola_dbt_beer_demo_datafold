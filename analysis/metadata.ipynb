{
 "cells": [
  {
   "cell_type": "code",
   "execution_count": 5,
   "metadata": {},
   "outputs": [],
   "source": [
    "import json\n",
    "import logging\n",
    "import re\n",
    "import os\n",
    "\n",
    "logging.basicConfig(level=logging.INFO)"
   ]
  },
  {
   "cell_type": "code",
   "execution_count": 4,
   "metadata": {},
   "outputs": [],
   "source": [
    "def get_tables_from_dbt(dbt_manifest, dbt_db_name):\n",
    "    tables = {}\n",
    "    for table_type in ['nodes', 'sources']:\n",
    "        manifest_subset = dbt_manifest[table_type]\n",
    "\n",
    "        for table_key_long in manifest_subset:\n",
    "            table = manifest_subset[table_key_long]\n",
    "            name = table['name']\n",
    "            schema = table['schema']\n",
    "            database = table['database']\n",
    "\n",
    "            table_key_short = schema + '.' + name\n",
    "            columns = table['columns']\n",
    "\n",
    "            if dbt_db_name is None or database == dbt_db_name:\n",
    "                # fail if it breaks uniqueness constraint\n",
    "                assert table_key_short not in tables, \\\n",
    "                    f\"Table {table_key_short} is a duplicate name (schema + table) \" \\\n",
    "                    f\"across databases. \" \\\n",
    "                    \"This would result in incorrect matching between Superset and dbt. \" \\\n",
    "                    \"To fix this, remove duplicates or add the ``dbt_db_name`` argument.\"\n",
    "\n",
    "                tables[table_key_short] = {'columns': columns}\n",
    "\n",
    "\n",
    "    assert tables, \"Manifest is empty!\"\n",
    "\n",
    "    return tables"
   ]
  },
  {
   "cell_type": "code",
   "execution_count": 7,
   "metadata": {},
   "outputs": [
    {
     "ename": "TypeError",
     "evalue": "string indices must be integers",
     "output_type": "error",
     "traceback": [
      "\u001b[0;31m---------------------------------------------------------------------------\u001b[0m",
      "\u001b[0;31mTypeError\u001b[0m                                 Traceback (most recent call last)",
      "Cell \u001b[0;32mIn [7], line 4\u001b[0m\n\u001b[1;32m      1\u001b[0m dbt_manifest \u001b[39m=\u001b[39m \u001b[39m\"\u001b[39m\u001b[39m/Users/martin/Dropbox/Development/keboola_dbt_beer_demo_datafold/target/manifest.json\u001b[39m\u001b[39m\"\u001b[39m\n\u001b[1;32m      2\u001b[0m dbt_db_name \u001b[39m=\u001b[39m \u001b[39m'\u001b[39m\u001b[39mtest\u001b[39m\u001b[39m'\u001b[39m\n\u001b[0;32m----> 4\u001b[0m names \u001b[39m=\u001b[39m get_tables_from_dbt(dbt_manifest, dbt_db_name)\n\u001b[1;32m      5\u001b[0m names\n",
      "Cell \u001b[0;32mIn [4], line 4\u001b[0m, in \u001b[0;36mget_tables_from_dbt\u001b[0;34m(dbt_manifest, dbt_db_name)\u001b[0m\n\u001b[1;32m      2\u001b[0m tables \u001b[39m=\u001b[39m {}\n\u001b[1;32m      3\u001b[0m \u001b[39mfor\u001b[39;00m table_type \u001b[39min\u001b[39;00m [\u001b[39m'\u001b[39m\u001b[39mnodes\u001b[39m\u001b[39m'\u001b[39m, \u001b[39m'\u001b[39m\u001b[39msources\u001b[39m\u001b[39m'\u001b[39m]:\n\u001b[0;32m----> 4\u001b[0m     manifest_subset \u001b[39m=\u001b[39m dbt_manifest[table_type]\n\u001b[1;32m      6\u001b[0m     \u001b[39mfor\u001b[39;00m table_key_long \u001b[39min\u001b[39;00m manifest_subset:\n\u001b[1;32m      7\u001b[0m         table \u001b[39m=\u001b[39m manifest_subset[table_key_long]\n",
      "\u001b[0;31mTypeError\u001b[0m: string indices must be integers"
     ]
    }
   ],
   "source": [
    "dbt_manifest = \"/Users/martin/Dropbox/Development/keboola_dbt_beer_demo_datafold/target/manifest.json\"\n",
    "dbt_db_name = 'test'\n",
    "\n",
    "names = get_tables_from_dbt(dbt_manifest, dbt_db_name)\n",
    "names"
   ]
  }
 ],
 "metadata": {
  "kernelspec": {
   "display_name": "Python 3",
   "language": "python",
   "name": "python3"
  },
  "language_info": {
   "codemirror_mode": {
    "name": "ipython",
    "version": 3
   },
   "file_extension": ".py",
   "mimetype": "text/x-python",
   "name": "python",
   "nbconvert_exporter": "python",
   "pygments_lexer": "ipython3",
   "version": "3.9.6 (default, Oct 18 2022, 12:41:40) \n[Clang 14.0.0 (clang-1400.0.29.202)]"
  },
  "orig_nbformat": 4,
  "vscode": {
   "interpreter": {
    "hash": "31f2aee4e71d21fbe5cf8b01ff0e069b9275f58929596ceb00d14d90e3e16cd6"
   }
  }
 },
 "nbformat": 4,
 "nbformat_minor": 2
}
