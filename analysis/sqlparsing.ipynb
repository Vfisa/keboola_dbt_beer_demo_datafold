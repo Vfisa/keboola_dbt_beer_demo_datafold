{
 "cells": [
  {
   "cell_type": "code",
   "execution_count": 1,
   "metadata": {},
   "outputs": [],
   "source": [
    "import json\n",
    "import os\n",
    "from sqllineage.runner import LineageRunner\n",
    "import sqllineage as sq\n",
    "from sqlparse.sql import Statement\n",
    "from sqllineage.core import LineageAnalyzer"
   ]
  },
  {
   "cell_type": "code",
   "execution_count": 2,
   "metadata": {},
   "outputs": [],
   "source": [
    "## test queries\n",
    "sql = \"insert into db1.table11 select * from db2.table21 union select * from db2.table22;\"\n",
    "#sql += \"insert into db3.table3 select * from db1.table11 join db1.table12;\"\n",
    "\n",
    "sql = \"\"\"CREATE OR REPLACE TABLE \"out_commercial_bonus\" AS SELECT RI.\"id\" || '_' || CBPDWI.\"unique_id\" AS \"unique_id\", RI.\"id\" AS \"warehouse_replenishment_id\", S.\"name\", CBPDWI.\"unique_id\" AS \"commercial_bonus_unique_id\", CBPDWI.\"commercial_bonus_periods_unique_id\", RI.\"inventory_item_id\"::VARCHAR(255) AS \"warehouse_inventory_id\", R.\"closed_at\"::TIMESTAMP_NTZ AS \"closed_at\", RI.\"amount\"::DECIMAL( 20, 4 ) AS \"amount\", ( RI.\"price\"::DECIMAL( 16, 6 )/ RI.\"amount\"::DECIMAL( 16, 6 ) )::DECIMAL( 16 ... ue_id\" = R.\"supplier_unique_id\" LEFT JOIN \"commercial_bonuses_periods\" cbp ON CBP.\"unique_id\" = CBPDWI.\"unique_id\" LEFT JOIN \"commercial_bonuses\" cb ON CB.\"unique_id\" = CBP.\"commercial_bonus_unique_id\" LEFT JOIN \"lov_commercial_bonuses\" lcb ON LCB.\"unique_id\" = CB.\"lov_commercial_bonuses_unique_id\" LEFT JOIN \"tmp_supplier\" S ON S.\"unique_id\" = CBPDWI.\"warehouse_supplier_unique_id\" WHERE R.\"closed_at\" > '2020-01-01 00:00:00' AND RI.\"amount\"::DECIMAL( 20, 6 )> 0 AND R.\"found_in_stock\" = 0;\"\"\"\n",
    "\n",
    "sql = sql.replace('\"','')\n"
   ]
  },
  {
   "cell_type": "code",
   "execution_count": 3,
   "metadata": {},
   "outputs": [],
   "source": [
    "f = open(\"/Users/martin/Dropbox/Development/keboola_dbt_beer_demo_datafold/target/compiled/beer_analytics/models/beers/beers_with_breweries.sql\", \"r\")\n",
    "sql = f.read()"
   ]
  },
  {
   "cell_type": "code",
   "execution_count": 4,
   "metadata": {},
   "outputs": [
    {
     "name": "stdout",
     "output_type": "stream",
     "text": [
      "Statements(#): 1\n",
      "Source Tables:\n",
      "    keboola_3603.workspace_477321511.beers\n",
      "    keboola_3603.workspace_477321511.breweries\n",
      "Target Tables:\n",
      "    \n",
      "\n"
     ]
    }
   ],
   "source": [
    "result = LineageRunner(sql)\n",
    "# To show lineage summary\n",
    "print(result)"
   ]
  },
  {
   "cell_type": "code",
   "execution_count": 5,
   "metadata": {},
   "outputs": [
    {
     "data": {
      "text/plain": [
       "[{'data': {'id': 'keboola_3603.workspace_477321511.beers'}},\n",
       " {'data': {'id': 'keboola_3603.workspace_477321511.breweries'}}]"
      ]
     },
     "execution_count": 5,
     "metadata": {},
     "output_type": "execute_result"
    }
   ],
   "source": [
    "result.to_cytoscape()"
   ]
  },
  {
   "cell_type": "code",
   "execution_count": 6,
   "metadata": {},
   "outputs": [
    {
     "data": {
      "text/plain": [
       "Schema: keboola_3603.workspace_477321511"
      ]
     },
     "execution_count": 6,
     "metadata": {},
     "output_type": "execute_result"
    }
   ],
   "source": [
    "result.source_tables[0].schema"
   ]
  },
  {
   "cell_type": "code",
   "execution_count": 7,
   "metadata": {},
   "outputs": [
    {
     "name": "stdout",
     "output_type": "stream",
     "text": [
      "keboola_3603.workspace_477321511.beers\n",
      "keboola_3603.workspace_477321511.breweries\n"
     ]
    }
   ],
   "source": [
    "for tbl in result.source_tables: print(tbl)"
   ]
  },
  {
   "cell_type": "code",
   "execution_count": 8,
   "metadata": {},
   "outputs": [],
   "source": [
    "for tbl in result.target_tables: print(tbl)"
   ]
  },
  {
   "cell_type": "code",
   "execution_count": 9,
   "metadata": {},
   "outputs": [
    {
     "name": "stderr",
     "output_type": "stream",
     "text": [
      "WARNING: This is a development server. Do not use it in a production deployment. Use a production WSGI server instead.\n",
      " * Running on http://localhost:5000\n",
      "Press CTRL+C to quit\n"
     ]
    },
    {
     "name": "stdout",
     "output_type": "stream",
     "text": [
      " * SQLLineage Running on http://localhost:5000/?e=%0A%0ASELECT+%2A%0AFROM+%22KEBOOLA_3603%22.%22WORKSPACE_477321511%22.%22beers%22+beers%0AJOIN+%22KEBOOLA_3603%22.%22WORKSPACE_477321511%22.%22breweries%22+breweries+USING+%28brewery_id%29\n"
     ]
    }
   ],
   "source": [
    "result.draw()"
   ]
  }
 ],
 "metadata": {
  "kernelspec": {
   "display_name": "Python 3.8.9 64-bit",
   "language": "python",
   "name": "python3"
  },
  "language_info": {
   "codemirror_mode": {
    "name": "ipython",
    "version": 3
   },
   "file_extension": ".py",
   "mimetype": "text/x-python",
   "name": "python",
   "nbconvert_exporter": "python",
   "pygments_lexer": "ipython3",
   "version": "3.9.6"
  },
  "orig_nbformat": 4,
  "vscode": {
   "interpreter": {
    "hash": "31f2aee4e71d21fbe5cf8b01ff0e069b9275f58929596ceb00d14d90e3e16cd6"
   }
  }
 },
 "nbformat": 4,
 "nbformat_minor": 2
}
