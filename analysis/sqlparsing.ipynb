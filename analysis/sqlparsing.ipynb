{
 "cells": [
  {
   "cell_type": "code",
   "execution_count": 1,
   "metadata": {},
   "outputs": [],
   "source": [
    "import json\n",
    "import os\n",
    "from sqllineage.runner import LineageRunner\n",
    "import sqllineage as sq\n",
    "from sqlparse.sql import Statement\n",
    "from sqllineage.core import LineageAnalyzer"
   ]
  },
  {
   "cell_type": "code",
   "execution_count": 6,
   "metadata": {},
   "outputs": [],
   "source": [
    "## test queries\n",
    "sql = \"insert into db1.table11 select * from db2.table21 union select * from db2.table22;\"\n",
    "#sql += \"insert into db3.table3 select * from db1.table11 join db1.table12;\"\n",
    "\n",
    "sql = \"\"\"CREATE OR REPLACE TABLE \"out_commercial_bonus\" AS SELECT RI.\"id\" || '_' || CBPDWI.\"unique_id\" AS \"unique_id\", RI.\"id\" AS \"warehouse_replenishment_id\", S.\"name\", CBPDWI.\"unique_id\" AS \"commercial_bonus_unique_id\", CBPDWI.\"commercial_bonus_periods_unique_id\", RI.\"inventory_item_id\"::VARCHAR(255) AS \"warehouse_inventory_id\", R.\"closed_at\"::TIMESTAMP_NTZ AS \"closed_at\", RI.\"amount\"::DECIMAL( 20, 4 ) AS \"amount\", ( RI.\"price\"::DECIMAL( 16, 6 )/ RI.\"amount\"::DECIMAL( 16, 6 ) )::DECIMAL( 16 ... ue_id\" = R.\"supplier_unique_id\" LEFT JOIN \"commercial_bonuses_periods\" cbp ON CBP.\"unique_id\" = CBPDWI.\"unique_id\" LEFT JOIN \"commercial_bonuses\" cb ON CB.\"unique_id\" = CBP.\"commercial_bonus_unique_id\" LEFT JOIN \"lov_commercial_bonuses\" lcb ON LCB.\"unique_id\" = CB.\"lov_commercial_bonuses_unique_id\" LEFT JOIN \"tmp_supplier\" S ON S.\"unique_id\" = CBPDWI.\"warehouse_supplier_unique_id\" WHERE R.\"closed_at\" > '2020-01-01 00:00:00' AND RI.\"amount\"::DECIMAL( 20, 6 )> 0 AND R.\"found_in_stock\" = 0;\"\"\"\n",
    "\n",
    "sql = sql.replace('\"','')\n"
   ]
  },
  {
   "cell_type": "code",
   "execution_count": 48,
   "metadata": {},
   "outputs": [],
   "source": [
    "f = open(\"/Users/martin/Dropbox/Development/keboola_dbt_beer_demo_datafold/target/compiled/beer_analytics/models/beers/beers_with_breweries.sql\", \"r\")\n",
    "sql = f.read()"
   ]
  },
  {
   "cell_type": "code",
   "execution_count": 7,
   "metadata": {},
   "outputs": [
    {
     "ename": "AttributeError",
     "evalue": "'LineageRunner' object has no attribute 'source_tables'",
     "output_type": "error",
     "traceback": [
      "\u001b[0;31m---------------------------------------------------------------------------\u001b[0m",
      "\u001b[0;31mAttributeError\u001b[0m                            Traceback (most recent call last)",
      "\u001b[1;32m/Users/martin/Dropbox/Development/keboola_dbt_beer_demo_datafold/analysis/sqlparsing.ipynb Cell 4\u001b[0m in \u001b[0;36m<module>\u001b[0;34m\u001b[0m\n\u001b[1;32m      <a href='vscode-notebook-cell:/Users/martin/Dropbox/Development/keboola_dbt_beer_demo_datafold/analysis/sqlparsing.ipynb#ch0000003?line=0'>1</a>\u001b[0m result \u001b[39m=\u001b[39m LineageRunner(sql)\n\u001b[1;32m      <a href='vscode-notebook-cell:/Users/martin/Dropbox/Development/keboola_dbt_beer_demo_datafold/analysis/sqlparsing.ipynb#ch0000003?line=1'>2</a>\u001b[0m \u001b[39m# To show lineage summary\u001b[39;00m\n\u001b[0;32m----> <a href='vscode-notebook-cell:/Users/martin/Dropbox/Development/keboola_dbt_beer_demo_datafold/analysis/sqlparsing.ipynb#ch0000003?line=2'>3</a>\u001b[0m \u001b[39mprint\u001b[39;49m(result)\n",
      "File \u001b[0;32m~/Library/Python/3.8/lib/python/site-packages/sqllineage/runner.py:21\u001b[0m, in \u001b[0;36mlazy_method.<locals>.wrapper\u001b[0;34m(*args, **kwargs)\u001b[0m\n\u001b[1;32m     19\u001b[0m \u001b[39mif\u001b[39;00m \u001b[39mnot\u001b[39;00m \u001b[39mself\u001b[39m\u001b[39m.\u001b[39m_evaluated:\n\u001b[1;32m     20\u001b[0m     \u001b[39mself\u001b[39m\u001b[39m.\u001b[39m_eval()\n\u001b[0;32m---> 21\u001b[0m \u001b[39mreturn\u001b[39;00m func(\u001b[39m*\u001b[39;49margs, \u001b[39m*\u001b[39;49m\u001b[39m*\u001b[39;49mkwargs)\n",
      "File \u001b[0;32m~/Library/Python/3.8/lib/python/site-packages/sqllineage/runner.py:58\u001b[0m, in \u001b[0;36mLineageRunner.__str__\u001b[0;34m(self)\u001b[0m\n\u001b[1;32m     54\u001b[0m         \u001b[39m\"\"\"\u001b[39;00m\n\u001b[1;32m     55\u001b[0m \u001b[39m        print out the Lineage Summary.\u001b[39;00m\n\u001b[1;32m     56\u001b[0m \u001b[39m        \"\"\"\u001b[39;00m\n\u001b[1;32m     57\u001b[0m         statements \u001b[39m=\u001b[39m \u001b[39mself\u001b[39m\u001b[39m.\u001b[39mstatements(strip_comments\u001b[39m=\u001b[39m\u001b[39mTrue\u001b[39;00m)\n\u001b[0;32m---> 58\u001b[0m         source_tables \u001b[39m=\u001b[39m \u001b[39m\"\u001b[39m\u001b[39m\\n\u001b[39;00m\u001b[39m    \u001b[39m\u001b[39m\"\u001b[39m\u001b[39m.\u001b[39mjoin(\u001b[39mstr\u001b[39m(t) \u001b[39mfor\u001b[39;00m t \u001b[39min\u001b[39;00m \u001b[39mself\u001b[39;49m\u001b[39m.\u001b[39;49msource_tables)\n\u001b[1;32m     59\u001b[0m         target_tables \u001b[39m=\u001b[39m \u001b[39m\"\u001b[39m\u001b[39m\\n\u001b[39;00m\u001b[39m    \u001b[39m\u001b[39m\"\u001b[39m\u001b[39m.\u001b[39mjoin(\u001b[39mstr\u001b[39m(t) \u001b[39mfor\u001b[39;00m t \u001b[39min\u001b[39;00m \u001b[39mself\u001b[39m\u001b[39m.\u001b[39mtarget_tables)\n\u001b[1;32m     60\u001b[0m         combined \u001b[39m=\u001b[39m \u001b[39mf\u001b[39m\u001b[39m\"\"\"\u001b[39m\u001b[39mStatements(#): \u001b[39m\u001b[39m{\u001b[39;00m\u001b[39mlen\u001b[39m(statements)\u001b[39m}\u001b[39;00m\n\u001b[1;32m     61\u001b[0m \u001b[39mSource Tables:\u001b[39m\n\u001b[1;32m     62\u001b[0m \u001b[39m    \u001b[39m\u001b[39m{\u001b[39;00msource_tables\u001b[39m}\u001b[39;00m\n\u001b[1;32m     63\u001b[0m \u001b[39mTarget Tables:\u001b[39m\n\u001b[1;32m     64\u001b[0m \u001b[39m    \u001b[39m\u001b[39m{\u001b[39;00mtarget_tables\u001b[39m}\u001b[39;00m\n\u001b[1;32m     65\u001b[0m \u001b[39m\"\"\"\u001b[39m\n",
      "\u001b[0;31mAttributeError\u001b[0m: 'LineageRunner' object has no attribute 'source_tables'"
     ]
    }
   ],
   "source": [
    "result = LineageRunner(sql)\n",
    "# To show lineage summary\n",
    "print(result)"
   ]
  },
  {
   "cell_type": "code",
   "execution_count": 50,
   "metadata": {},
   "outputs": [
    {
     "data": {
      "text/plain": [
       "[{'data': {'id': 'sapi_9119.workspace_863912091.breweries'}},\n",
       " {'data': {'id': 'sapi_9119.workspace_863912091.beers'}}]"
      ]
     },
     "execution_count": 50,
     "metadata": {},
     "output_type": "execute_result"
    }
   ],
   "source": [
    "result.to_cytoscape()"
   ]
  },
  {
   "cell_type": "code",
   "execution_count": 51,
   "metadata": {},
   "outputs": [
    {
     "data": {
      "text/plain": [
       "Schema: sapi_9119.workspace_863912091"
      ]
     },
     "execution_count": 51,
     "metadata": {},
     "output_type": "execute_result"
    }
   ],
   "source": [
    "result.source_tables[0].schema"
   ]
  },
  {
   "cell_type": "code",
   "execution_count": 52,
   "metadata": {},
   "outputs": [
    {
     "name": "stdout",
     "output_type": "stream",
     "text": [
      "sapi_9119.workspace_863912091.beers\n",
      "sapi_9119.workspace_863912091.breweries\n"
     ]
    }
   ],
   "source": [
    "for tbl in result.source_tables: print(tbl)"
   ]
  },
  {
   "cell_type": "code",
   "execution_count": 53,
   "metadata": {},
   "outputs": [],
   "source": [
    "for tbl in result.target_tables: print(tbl)"
   ]
  },
  {
   "cell_type": "code",
   "execution_count": 54,
   "metadata": {},
   "outputs": [
    {
     "name": "stdout",
     "output_type": "stream",
     "text": [
      " * SQLLineage Running on http://localhost:5000/?e=%0A%0ASELECT+%2A%0AFROM+%22SAPI_9119%22.%22WORKSPACE_863912091%22.%22beers%22+beers%0AJOIN+%22SAPI_9119%22.%22WORKSPACE_863912091%22.%22breweries%22+breweries+USING+%28brewery_id%29\n"
     ]
    }
   ],
   "source": [
    "result.draw()"
   ]
  }
 ],
 "metadata": {
  "kernelspec": {
   "display_name": "Python 3.8.9 64-bit",
   "language": "python",
   "name": "python3"
  },
  "language_info": {
   "codemirror_mode": {
    "name": "ipython",
    "version": 3
   },
   "file_extension": ".py",
   "mimetype": "text/x-python",
   "name": "python",
   "nbconvert_exporter": "python",
   "pygments_lexer": "ipython3",
   "version": "3.8.9"
  },
  "orig_nbformat": 4,
  "vscode": {
   "interpreter": {
    "hash": "31f2aee4e71d21fbe5cf8b01ff0e069b9275f58929596ceb00d14d90e3e16cd6"
   }
  }
 },
 "nbformat": 4,
 "nbformat_minor": 2
}
